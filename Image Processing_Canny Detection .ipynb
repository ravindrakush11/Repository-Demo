{
 "cells": [
  {
   "cell_type": "markdown",
   "id": "9f86d56e",
   "metadata": {},
   "source": [
    "https://www.geeksforgeeks.org/real-time-edge-detection-using-opencv-python/?ref=rp"
   ]
  },
  {
   "cell_type": "code",
   "execution_count": 2,
   "id": "8bc51e57",
   "metadata": {},
   "outputs": [],
   "source": [
    "# OpenCV program to perform Edge detection in real time\n",
    "# import libraries of python OpenCV\n",
    "# where its functionality resides\n",
    "import cv2\n",
    "\n",
    "# np is an alias pointing to numpy library\n",
    "import numpy as np\n",
    "\n",
    "\n",
    "# capture frames from a camera\n",
    "cap = cv2.VideoCapture(0)\n",
    "\n",
    "\n",
    "# loop runs if capturing has been initialized\n",
    "while(1):\n",
    "\n",
    "\t# reads frames from a camera\n",
    "\tret, frame = cap.read()\n",
    "\n",
    "\t# converting BGR to HSV\n",
    "\thsv = cv2.cvtColor(frame, cv2.COLOR_BGR2HSV)\n",
    "\t\n",
    "\t# define range of red color in HSV\n",
    "\tlower_red = np.array([30,150,50])\n",
    "\tupper_red = np.array([255,255,180])\n",
    "\t\n",
    "\t# create a red HSV colour boundary and\n",
    "\t# threshold HSV image\n",
    "\tmask = cv2.inRange(hsv, lower_red, upper_red)\n",
    "\n",
    "\t# Bitwise-AND mask and original image\n",
    "\tres = cv2.bitwise_and(frame,frame, mask= mask)\n",
    "\n",
    "\t# Display an original image\n",
    "\tcv2.imshow('Original',frame)\n",
    "\n",
    "\t# finds edges in the input image and\n",
    "\t# marks them in the output map edges\n",
    "\tedges = cv2.Canny(frame,100,200)\n",
    "\n",
    "\t# Display edges in a frame\n",
    "\tcv2.imshow('Edges',edges)\n",
    "\n",
    "\t# Wait for Esc key to stop\n",
    "\tk = cv2.waitKey(5) & 0xFF\n",
    "\tif k == 27:\n",
    "\t\tbreak\n",
    "\n",
    "\n",
    "# Close the window\n",
    "cap.release()\n",
    "\n",
    "# De-allocate any associated memory usage\n",
    "cv2.destroyAllWindows()\n"
   ]
  }
 ],
 "metadata": {
  "kernelspec": {
   "display_name": "Python 3 (ipykernel)",
   "language": "python",
   "name": "python3"
  },
  "language_info": {
   "codemirror_mode": {
    "name": "ipython",
    "version": 3
   },
   "file_extension": ".py",
   "mimetype": "text/x-python",
   "name": "python",
   "nbconvert_exporter": "python",
   "pygments_lexer": "ipython3",
   "version": "3.9.7"
  }
 },
 "nbformat": 4,
 "nbformat_minor": 5
}
